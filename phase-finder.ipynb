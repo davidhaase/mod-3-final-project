{
 "cells": [
  {
   "cell_type": "code",
   "execution_count": 32,
   "metadata": {},
   "outputs": [
    {
     "name": "stdout",
     "output_type": "stream",
     "text": [
      "First Quarter: 546\n",
      "Full Moon: 546\n",
      "Last Quarter: 546\n",
      "New Moon: 542\n"
     ]
    },
    {
     "data": {
      "text/plain": [
       "'First Quarter'"
      ]
     },
     "execution_count": 32,
     "metadata": {},
     "output_type": "execute_result"
    }
   ],
   "source": [
    "import datetime\n",
    "\n",
    "filename = 'moonphasedf.csv'\n",
    "\n",
    "def build_phases(filename):\n",
    "    phases = {}\n",
    "    f = open(filename)\n",
    "    lines = f.readlines()\n",
    "    f.close() \n",
    "    \n",
    "    for i in range(1,len(lines)):\n",
    "        try:\n",
    "            date = datetime.datetime.strptime(lines[i].split(',')[1], '%Y %b %d')\n",
    "            value = lines[i].split(',')[2]\n",
    "        except Exception as e:\n",
    "            print(e)\n",
    "            continue\n",
    "\n",
    "        if value not in phases:\n",
    "            phases[value] = []\n",
    "        phases[value].append(date)\n",
    "        \n",
    "    f.close()  \n",
    "    \n",
    "    return phases\n",
    "\n",
    "def get_phase_from_day(day_string):\n",
    "    try:\n",
    "        date = datetime.datetime.strptime(day_string, '%Y %b %d')\n",
    "    except Exception as e:\n",
    "        print(e)\n",
    "            \n",
    "    for phase in phases:\n",
    "        if date in phases[phase]:\n",
    "            return phase\n",
    "        else:\n",
    "            return day_string + ' not found'\n",
    "    \n",
    "    \n",
    "someday = '2012 Jan 01'\n",
    "phases = build_phases(filename)\n",
    "\n",
    "for phase in phases:\n",
    "    print('{}: {}'.format(phase, len(phases[phase])))\n",
    "    \n",
    "get_phase_from_day(someday)"
   ]
  },
  {
   "cell_type": "code",
   "execution_count": null,
   "metadata": {},
   "outputs": [],
   "source": []
  },
  {
   "cell_type": "code",
   "execution_count": null,
   "metadata": {},
   "outputs": [],
   "source": []
  }
 ],
 "metadata": {
  "kernelspec": {
   "display_name": "Python 3",
   "language": "python",
   "name": "python3"
  },
  "language_info": {
   "codemirror_mode": {
    "name": "ipython",
    "version": 3
   },
   "file_extension": ".py",
   "mimetype": "text/x-python",
   "name": "python",
   "nbconvert_exporter": "python",
   "pygments_lexer": "ipython3",
   "version": "3.7.1"
  }
 },
 "nbformat": 4,
 "nbformat_minor": 2
}
