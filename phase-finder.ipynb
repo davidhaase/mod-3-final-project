{
 "cells": [
  {
   "cell_type": "code",
   "execution_count": null,
   "metadata": {},
   "outputs": [],
   "source": [
    "\n",
    "date_time_str = '2018-06-29 08:15:27.243860'  \n",
    "date_time_obj = datetime.datetime.strptime(date_time_str, '%Y-%m-%d %H:%M:%S.%f')\n",
    "\n",
    "print('Date:', date_time_obj.date())  \n",
    "print('Time:', date_time_obj.time())  \n",
    "print('Date-time:', date_time_obj)  "
   ]
  },
  {
   "cell_type": "code",
   "execution_count": 17,
   "metadata": {},
   "outputs": [
    {
     "name": "stdout",
     "output_type": "stream",
     "text": [
      "time data 'date' does not match format '%Y %b %d'\n",
      "First Quarter 0\n",
      "Full Moon 546\n",
      "Full Moon\n",
      "Last Quarter 0\n",
      "New Moon 0\n",
      "[]\n"
     ]
    },
    {
     "data": {
      "text/plain": [
       "'2019 Oct 13 not found'"
      ]
     },
     "execution_count": 17,
     "metadata": {},
     "output_type": "execute_result"
    }
   ],
   "source": [
    "import datetime\n",
    "import json\n",
    "data_file = 'phases-json.txt'\n",
    "\n",
    "phases = {'First Quarter':[], 'Full Moon':[], 'Last Quarter': [], 'New Moon':[]}\n",
    "filename = 'moonphasedf.csv'\n",
    "\n",
    "def build_phases():\n",
    "    f = open(filename)\n",
    "    for line in f.readlines():\n",
    "        try:\n",
    "            date = datetime.datetime.strptime(line.split(',')[1], '%Y %b %d')\n",
    "        except Exception as e:\n",
    "            print(e)\n",
    "            continue\n",
    "        \n",
    "        date = line.split(',')[1]\n",
    "        value = line.split(',')[2]\n",
    "        if value =='Full Moon':\n",
    "            phases[value].append(date)\n",
    "        \n",
    "    f.close()  \n",
    "    \n",
    "#     with open(data_file, 'w') as outfile:  \n",
    "#         json.dump(phases, outfile)\n",
    "    \n",
    "    return len(phases)\n",
    "\n",
    "def get_phase_from_day(day_string):\n",
    "    date = datetime.datetime.strptime(day_string, '%Y %b %d')\n",
    "#     with open(data_file) as json_file:  \n",
    "#         phases = json.load(json_file)\n",
    "    for phase in phases:\n",
    "        print(phases[phase])\n",
    "        if day_string in phase:\n",
    "            return phase\n",
    "        else:\n",
    "            return day_string + ' not found'\n",
    "    \n",
    "    \n",
    "someday = '2019 Oct 13'\n",
    "build_phases()\n",
    "\n",
    "for phase in phases:\n",
    "    print(phase + ' ' + str(len(phases[phase])))\n",
    "    if phase == 'Full Moon':\n",
    "        print(phase)\n",
    "    \n",
    "get_phase_from_day(someday)"
   ]
  },
  {
   "cell_type": "markdown",
   "metadata": {},
   "source": [
    "2181"
   ]
  },
  {
   "cell_type": "code",
   "execution_count": null,
   "metadata": {},
   "outputs": [],
   "source": []
  }
 ],
 "metadata": {
  "kernelspec": {
   "display_name": "Python 3",
   "language": "python",
   "name": "python3"
  },
  "language_info": {
   "codemirror_mode": {
    "name": "ipython",
    "version": 3
   },
   "file_extension": ".py",
   "mimetype": "text/x-python",
   "name": "python",
   "nbconvert_exporter": "python",
   "pygments_lexer": "ipython3",
   "version": "3.7.1"
  }
 },
 "nbformat": 4,
 "nbformat_minor": 2
}
