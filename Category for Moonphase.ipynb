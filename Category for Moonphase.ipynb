{
 "cells": [
  {
   "cell_type": "code",
   "execution_count": 20,
   "metadata": {},
   "outputs": [],
   "source": [
    "import pandas as pd"
   ]
  },
  {
   "cell_type": "code",
   "execution_count": 21,
   "metadata": {},
   "outputs": [],
   "source": [
    "from datetime import datetime"
   ]
  },
  {
   "cell_type": "code",
   "execution_count": 22,
   "metadata": {},
   "outputs": [],
   "source": [
    "moonphase_df = pd.read_csv('moonphasedf.csv')"
   ]
  },
  {
   "cell_type": "code",
   "execution_count": 23,
   "metadata": {
    "scrolled": true
   },
   "outputs": [
    {
     "data": {
      "text/html": [
       "<div>\n",
       "<style scoped>\n",
       "    .dataframe tbody tr th:only-of-type {\n",
       "        vertical-align: middle;\n",
       "    }\n",
       "\n",
       "    .dataframe tbody tr th {\n",
       "        vertical-align: top;\n",
       "    }\n",
       "\n",
       "    .dataframe thead th {\n",
       "        text-align: right;\n",
       "    }\n",
       "</style>\n",
       "<table border=\"1\" class=\"dataframe\">\n",
       "  <thead>\n",
       "    <tr style=\"text-align: right;\">\n",
       "      <th></th>\n",
       "      <th>Unnamed: 0</th>\n",
       "      <th>date</th>\n",
       "      <th>phase</th>\n",
       "      <th>time</th>\n",
       "    </tr>\n",
       "  </thead>\n",
       "  <tbody>\n",
       "    <tr>\n",
       "      <th>0</th>\n",
       "      <td>0</td>\n",
       "      <td>2012 Jan 01</td>\n",
       "      <td>First Quarter</td>\n",
       "      <td>06:15</td>\n",
       "    </tr>\n",
       "    <tr>\n",
       "      <th>1</th>\n",
       "      <td>1</td>\n",
       "      <td>2012 Jan 09</td>\n",
       "      <td>Full Moon</td>\n",
       "      <td>07:30</td>\n",
       "    </tr>\n",
       "    <tr>\n",
       "      <th>2</th>\n",
       "      <td>2</td>\n",
       "      <td>2012 Jan 16</td>\n",
       "      <td>Last Quarter</td>\n",
       "      <td>09:08</td>\n",
       "    </tr>\n",
       "    <tr>\n",
       "      <th>3</th>\n",
       "      <td>3</td>\n",
       "      <td>2012 Jan 23</td>\n",
       "      <td>New Moon</td>\n",
       "      <td>07:39</td>\n",
       "    </tr>\n",
       "    <tr>\n",
       "      <th>4</th>\n",
       "      <td>4</td>\n",
       "      <td>2012 Jan 31</td>\n",
       "      <td>First Quarter</td>\n",
       "      <td>04:10</td>\n",
       "    </tr>\n",
       "  </tbody>\n",
       "</table>\n",
       "</div>"
      ],
      "text/plain": [
       "   Unnamed: 0         date          phase   time\n",
       "0           0  2012 Jan 01  First Quarter  06:15\n",
       "1           1  2012 Jan 09      Full Moon  07:30\n",
       "2           2  2012 Jan 16   Last Quarter  09:08\n",
       "3           3  2012 Jan 23       New Moon  07:39\n",
       "4           4  2012 Jan 31  First Quarter  04:10"
      ]
     },
     "execution_count": 23,
     "metadata": {},
     "output_type": "execute_result"
    }
   ],
   "source": [
    "moonphase_df.head()"
   ]
  },
  {
   "cell_type": "code",
   "execution_count": 24,
   "metadata": {},
   "outputs": [],
   "source": [
    "moonphase_df = moonphase_df.drop('Unnamed: 0', axis = 1)"
   ]
  },
  {
   "cell_type": "code",
   "execution_count": 25,
   "metadata": {},
   "outputs": [
    {
     "data": {
      "text/plain": [
       "str"
      ]
     },
     "execution_count": 25,
     "metadata": {},
     "output_type": "execute_result"
    }
   ],
   "source": [
    "type(moonphase_df['date'][0])"
   ]
  },
  {
   "cell_type": "code",
   "execution_count": 26,
   "metadata": {},
   "outputs": [],
   "source": [
    "moonphase_df['date']= pd.to_datetime(moonphase_df['date']) "
   ]
  },
  {
   "cell_type": "code",
   "execution_count": 27,
   "metadata": {
    "scrolled": true
   },
   "outputs": [
    {
     "data": {
      "text/html": [
       "<div>\n",
       "<style scoped>\n",
       "    .dataframe tbody tr th:only-of-type {\n",
       "        vertical-align: middle;\n",
       "    }\n",
       "\n",
       "    .dataframe tbody tr th {\n",
       "        vertical-align: top;\n",
       "    }\n",
       "\n",
       "    .dataframe thead th {\n",
       "        text-align: right;\n",
       "    }\n",
       "</style>\n",
       "<table border=\"1\" class=\"dataframe\">\n",
       "  <thead>\n",
       "    <tr style=\"text-align: right;\">\n",
       "      <th></th>\n",
       "      <th>date</th>\n",
       "      <th>phase</th>\n",
       "      <th>time</th>\n",
       "    </tr>\n",
       "  </thead>\n",
       "  <tbody>\n",
       "    <tr>\n",
       "      <th>0</th>\n",
       "      <td>2012-01-01</td>\n",
       "      <td>First Quarter</td>\n",
       "      <td>06:15</td>\n",
       "    </tr>\n",
       "    <tr>\n",
       "      <th>1</th>\n",
       "      <td>2012-01-09</td>\n",
       "      <td>Full Moon</td>\n",
       "      <td>07:30</td>\n",
       "    </tr>\n",
       "    <tr>\n",
       "      <th>2</th>\n",
       "      <td>2012-01-16</td>\n",
       "      <td>Last Quarter</td>\n",
       "      <td>09:08</td>\n",
       "    </tr>\n",
       "    <tr>\n",
       "      <th>3</th>\n",
       "      <td>2012-01-23</td>\n",
       "      <td>New Moon</td>\n",
       "      <td>07:39</td>\n",
       "    </tr>\n",
       "    <tr>\n",
       "      <th>4</th>\n",
       "      <td>2012-01-31</td>\n",
       "      <td>First Quarter</td>\n",
       "      <td>04:10</td>\n",
       "    </tr>\n",
       "  </tbody>\n",
       "</table>\n",
       "</div>"
      ],
      "text/plain": [
       "        date          phase   time\n",
       "0 2012-01-01  First Quarter  06:15\n",
       "1 2012-01-09      Full Moon  07:30\n",
       "2 2012-01-16   Last Quarter  09:08\n",
       "3 2012-01-23       New Moon  07:39\n",
       "4 2012-01-31  First Quarter  04:10"
      ]
     },
     "execution_count": 27,
     "metadata": {},
     "output_type": "execute_result"
    }
   ],
   "source": [
    "moonphase_df.head()"
   ]
  },
  {
   "cell_type": "code",
   "execution_count": 29,
   "metadata": {},
   "outputs": [],
   "source": [
    "import datetime\n",
    "date1 = '2012-07-01'\n",
    "date2 = '2019-06-06'\n",
    "start = datetime.datetime.strptime(date1, '%Y-%m-%d')\n",
    "end = datetime.datetime.strptime(date2, '%Y-%m-%d')\n",
    "step = datetime.timedelta(days=1)\n",
    "date_list=[]\n",
    "while start <= end:\n",
    "    date_list.append(start)\n",
    "    start += step\n"
   ]
  },
  {
   "cell_type": "code",
   "execution_count": 34,
   "metadata": {},
   "outputs": [],
   "source": [
    "all_date = pd.DataFrame(date_list)"
   ]
  },
  {
   "cell_type": "code",
   "execution_count": 37,
   "metadata": {},
   "outputs": [
    {
     "data": {
      "text/plain": [
       "'First Quarter'"
      ]
     },
     "execution_count": 37,
     "metadata": {},
     "output_type": "execute_result"
    }
   ],
   "source": [
    "moonphase_df['phase'][0]"
   ]
  },
  {
   "cell_type": "code",
   "execution_count": 51,
   "metadata": {},
   "outputs": [],
   "source": [
    "phase_dict = {}\n",
    "for i in range(len(moonphase_df['phase'])):\n",
    "    if  moonphase_df['phase'][i] in phase_dict:\n",
    "        phase_dict[moonphase_df['phase'][i]].append(moonphase_df['date'][i])\n",
    "    else:\n",
    "        phase_dict[moonphase_df['phase'][i]]= [moonphase_df['date'][i]]"
   ]
  },
  {
   "cell_type": "code",
   "execution_count": 59,
   "metadata": {},
   "outputs": [
    {
     "data": {
      "text/plain": [
       "dict_keys(['First Quarter', 'Full Moon', 'Last Quarter', 'New Moon'])"
      ]
     },
     "execution_count": 59,
     "metadata": {},
     "output_type": "execute_result"
    }
   ],
   "source": [
    "phase_dict.keys()"
   ]
  },
  {
   "cell_type": "code",
   "execution_count": 58,
   "metadata": {},
   "outputs": [
    {
     "data": {
      "text/plain": [
       "546"
      ]
     },
     "execution_count": 58,
     "metadata": {},
     "output_type": "execute_result"
    }
   ],
   "source": [
    "len(phase_dict['First Quarter'])"
   ]
  },
  {
   "cell_type": "code",
   "execution_count": 57,
   "metadata": {},
   "outputs": [
    {
     "data": {
      "text/plain": [
       "546"
      ]
     },
     "execution_count": 57,
     "metadata": {},
     "output_type": "execute_result"
    }
   ],
   "source": [
    "len(phase_dict['Full Moon'])"
   ]
  },
  {
   "cell_type": "code",
   "execution_count": 60,
   "metadata": {},
   "outputs": [
    {
     "data": {
      "text/plain": [
       "546"
      ]
     },
     "execution_count": 60,
     "metadata": {},
     "output_type": "execute_result"
    }
   ],
   "source": [
    "len(phase_dict['Last Quarter'])"
   ]
  },
  {
   "cell_type": "code",
   "execution_count": 61,
   "metadata": {},
   "outputs": [
    {
     "data": {
      "text/plain": [
       "542"
      ]
     },
     "execution_count": 61,
     "metadata": {},
     "output_type": "execute_result"
    }
   ],
   "source": [
    "len(phase_dict['New Moon'])"
   ]
  },
  {
   "cell_type": "code",
   "execution_count": 159,
   "metadata": {},
   "outputs": [],
   "source": [
    "moonphase_df_test = moonphase_df"
   ]
  },
  {
   "cell_type": "code",
   "execution_count": 160,
   "metadata": {},
   "outputs": [],
   "source": [
    "all_date_test = all_date"
   ]
  },
  {
   "cell_type": "code",
   "execution_count": 161,
   "metadata": {},
   "outputs": [],
   "source": [
    "all_date_test = all_date_test.rename(columns = {0:'date'})"
   ]
  },
  {
   "cell_type": "code",
   "execution_count": 162,
   "metadata": {},
   "outputs": [
    {
     "data": {
      "text/html": [
       "<div>\n",
       "<style scoped>\n",
       "    .dataframe tbody tr th:only-of-type {\n",
       "        vertical-align: middle;\n",
       "    }\n",
       "\n",
       "    .dataframe tbody tr th {\n",
       "        vertical-align: top;\n",
       "    }\n",
       "\n",
       "    .dataframe thead th {\n",
       "        text-align: right;\n",
       "    }\n",
       "</style>\n",
       "<table border=\"1\" class=\"dataframe\">\n",
       "  <thead>\n",
       "    <tr style=\"text-align: right;\">\n",
       "      <th></th>\n",
       "      <th>date</th>\n",
       "    </tr>\n",
       "  </thead>\n",
       "  <tbody>\n",
       "    <tr>\n",
       "      <th>0</th>\n",
       "      <td>2012-07-01</td>\n",
       "    </tr>\n",
       "    <tr>\n",
       "      <th>1</th>\n",
       "      <td>2012-07-02</td>\n",
       "    </tr>\n",
       "    <tr>\n",
       "      <th>2</th>\n",
       "      <td>2012-07-03</td>\n",
       "    </tr>\n",
       "    <tr>\n",
       "      <th>3</th>\n",
       "      <td>2012-07-04</td>\n",
       "    </tr>\n",
       "    <tr>\n",
       "      <th>4</th>\n",
       "      <td>2012-07-05</td>\n",
       "    </tr>\n",
       "  </tbody>\n",
       "</table>\n",
       "</div>"
      ],
      "text/plain": [
       "        date\n",
       "0 2012-07-01\n",
       "1 2012-07-02\n",
       "2 2012-07-03\n",
       "3 2012-07-04\n",
       "4 2012-07-05"
      ]
     },
     "execution_count": 162,
     "metadata": {},
     "output_type": "execute_result"
    }
   ],
   "source": [
    "all_date_test.head()"
   ]
  },
  {
   "cell_type": "code",
   "execution_count": 163,
   "metadata": {},
   "outputs": [],
   "source": [
    "phase_col = []\n",
    "for i in range(len(all_date_test)):\n",
    "    if all_date_test['date'][i] in phase_dict['First Quarter']:\n",
    "        phase_col.append('First Quarter')\n",
    "    elif all_date_test['date'][i] in phase_dict['Full Moon']:\n",
    "        phase_col.append('Full Moon')\n",
    "    elif all_date_test['date'][i] in phase_dict['Last Quarter']:\n",
    "        phase_col.append('Last Quarter')\n",
    "    elif all_date_test['date'][i] in phase_dict['New Moon']:\n",
    "        phase_col.append('New Moon')\n",
    "    else:\n",
    "        phase_col.append('thinking')"
   ]
  },
  {
   "cell_type": "code",
   "execution_count": 186,
   "metadata": {},
   "outputs": [],
   "source": [
    "all_date_test['moonphase'] = phase_col"
   ]
  },
  {
   "cell_type": "code",
   "execution_count": 187,
   "metadata": {
    "scrolled": true
   },
   "outputs": [
    {
     "data": {
      "text/html": [
       "<div>\n",
       "<style scoped>\n",
       "    .dataframe tbody tr th:only-of-type {\n",
       "        vertical-align: middle;\n",
       "    }\n",
       "\n",
       "    .dataframe tbody tr th {\n",
       "        vertical-align: top;\n",
       "    }\n",
       "\n",
       "    .dataframe thead th {\n",
       "        text-align: right;\n",
       "    }\n",
       "</style>\n",
       "<table border=\"1\" class=\"dataframe\">\n",
       "  <thead>\n",
       "    <tr style=\"text-align: right;\">\n",
       "      <th></th>\n",
       "      <th>date</th>\n",
       "      <th>moonphase</th>\n",
       "    </tr>\n",
       "  </thead>\n",
       "  <tbody>\n",
       "    <tr>\n",
       "      <th>0</th>\n",
       "      <td>2012-07-01</td>\n",
       "      <td>thinking</td>\n",
       "    </tr>\n",
       "    <tr>\n",
       "      <th>1</th>\n",
       "      <td>2012-07-02</td>\n",
       "      <td>thinking</td>\n",
       "    </tr>\n",
       "    <tr>\n",
       "      <th>2</th>\n",
       "      <td>2012-07-03</td>\n",
       "      <td>Full Moon</td>\n",
       "    </tr>\n",
       "    <tr>\n",
       "      <th>3</th>\n",
       "      <td>2012-07-04</td>\n",
       "      <td>thinking</td>\n",
       "    </tr>\n",
       "    <tr>\n",
       "      <th>4</th>\n",
       "      <td>2012-07-05</td>\n",
       "      <td>thinking</td>\n",
       "    </tr>\n",
       "    <tr>\n",
       "      <th>5</th>\n",
       "      <td>2012-07-06</td>\n",
       "      <td>thinking</td>\n",
       "    </tr>\n",
       "    <tr>\n",
       "      <th>6</th>\n",
       "      <td>2012-07-07</td>\n",
       "      <td>thinking</td>\n",
       "    </tr>\n",
       "    <tr>\n",
       "      <th>7</th>\n",
       "      <td>2012-07-08</td>\n",
       "      <td>thinking</td>\n",
       "    </tr>\n",
       "    <tr>\n",
       "      <th>8</th>\n",
       "      <td>2012-07-09</td>\n",
       "      <td>thinking</td>\n",
       "    </tr>\n",
       "    <tr>\n",
       "      <th>9</th>\n",
       "      <td>2012-07-10</td>\n",
       "      <td>thinking</td>\n",
       "    </tr>\n",
       "    <tr>\n",
       "      <th>10</th>\n",
       "      <td>2012-07-11</td>\n",
       "      <td>Last Quarter</td>\n",
       "    </tr>\n",
       "    <tr>\n",
       "      <th>11</th>\n",
       "      <td>2012-07-12</td>\n",
       "      <td>thinking</td>\n",
       "    </tr>\n",
       "    <tr>\n",
       "      <th>12</th>\n",
       "      <td>2012-07-13</td>\n",
       "      <td>thinking</td>\n",
       "    </tr>\n",
       "    <tr>\n",
       "      <th>13</th>\n",
       "      <td>2012-07-14</td>\n",
       "      <td>thinking</td>\n",
       "    </tr>\n",
       "    <tr>\n",
       "      <th>14</th>\n",
       "      <td>2012-07-15</td>\n",
       "      <td>thinking</td>\n",
       "    </tr>\n",
       "    <tr>\n",
       "      <th>15</th>\n",
       "      <td>2012-07-16</td>\n",
       "      <td>thinking</td>\n",
       "    </tr>\n",
       "    <tr>\n",
       "      <th>16</th>\n",
       "      <td>2012-07-17</td>\n",
       "      <td>thinking</td>\n",
       "    </tr>\n",
       "    <tr>\n",
       "      <th>17</th>\n",
       "      <td>2012-07-18</td>\n",
       "      <td>thinking</td>\n",
       "    </tr>\n",
       "    <tr>\n",
       "      <th>18</th>\n",
       "      <td>2012-07-19</td>\n",
       "      <td>New Moon</td>\n",
       "    </tr>\n",
       "    <tr>\n",
       "      <th>19</th>\n",
       "      <td>2012-07-20</td>\n",
       "      <td>thinking</td>\n",
       "    </tr>\n",
       "    <tr>\n",
       "      <th>20</th>\n",
       "      <td>2012-07-21</td>\n",
       "      <td>thinking</td>\n",
       "    </tr>\n",
       "    <tr>\n",
       "      <th>21</th>\n",
       "      <td>2012-07-22</td>\n",
       "      <td>thinking</td>\n",
       "    </tr>\n",
       "    <tr>\n",
       "      <th>22</th>\n",
       "      <td>2012-07-23</td>\n",
       "      <td>thinking</td>\n",
       "    </tr>\n",
       "    <tr>\n",
       "      <th>23</th>\n",
       "      <td>2012-07-24</td>\n",
       "      <td>thinking</td>\n",
       "    </tr>\n",
       "    <tr>\n",
       "      <th>24</th>\n",
       "      <td>2012-07-25</td>\n",
       "      <td>thinking</td>\n",
       "    </tr>\n",
       "    <tr>\n",
       "      <th>25</th>\n",
       "      <td>2012-07-26</td>\n",
       "      <td>First Quarter</td>\n",
       "    </tr>\n",
       "    <tr>\n",
       "      <th>26</th>\n",
       "      <td>2012-07-27</td>\n",
       "      <td>thinking</td>\n",
       "    </tr>\n",
       "    <tr>\n",
       "      <th>27</th>\n",
       "      <td>2012-07-28</td>\n",
       "      <td>thinking</td>\n",
       "    </tr>\n",
       "    <tr>\n",
       "      <th>28</th>\n",
       "      <td>2012-07-29</td>\n",
       "      <td>thinking</td>\n",
       "    </tr>\n",
       "    <tr>\n",
       "      <th>29</th>\n",
       "      <td>2012-07-30</td>\n",
       "      <td>thinking</td>\n",
       "    </tr>\n",
       "  </tbody>\n",
       "</table>\n",
       "</div>"
      ],
      "text/plain": [
       "         date      moonphase\n",
       "0  2012-07-01       thinking\n",
       "1  2012-07-02       thinking\n",
       "2  2012-07-03      Full Moon\n",
       "3  2012-07-04       thinking\n",
       "4  2012-07-05       thinking\n",
       "5  2012-07-06       thinking\n",
       "6  2012-07-07       thinking\n",
       "7  2012-07-08       thinking\n",
       "8  2012-07-09       thinking\n",
       "9  2012-07-10       thinking\n",
       "10 2012-07-11   Last Quarter\n",
       "11 2012-07-12       thinking\n",
       "12 2012-07-13       thinking\n",
       "13 2012-07-14       thinking\n",
       "14 2012-07-15       thinking\n",
       "15 2012-07-16       thinking\n",
       "16 2012-07-17       thinking\n",
       "17 2012-07-18       thinking\n",
       "18 2012-07-19       New Moon\n",
       "19 2012-07-20       thinking\n",
       "20 2012-07-21       thinking\n",
       "21 2012-07-22       thinking\n",
       "22 2012-07-23       thinking\n",
       "23 2012-07-24       thinking\n",
       "24 2012-07-25       thinking\n",
       "25 2012-07-26  First Quarter\n",
       "26 2012-07-27       thinking\n",
       "27 2012-07-28       thinking\n",
       "28 2012-07-29       thinking\n",
       "29 2012-07-30       thinking"
      ]
     },
     "execution_count": 187,
     "metadata": {},
     "output_type": "execute_result"
    }
   ],
   "source": [
    "all_date_test.head(30)"
   ]
  },
  {
   "cell_type": "code",
   "execution_count": 166,
   "metadata": {
    "scrolled": true
   },
   "outputs": [],
   "source": [
    "full_index = all_date_test.moonphase[all_date_test.moonphase == 'Full Moon'].index.tolist()"
   ]
  },
  {
   "cell_type": "code",
   "execution_count": 167,
   "metadata": {
    "scrolled": true
   },
   "outputs": [],
   "source": [
    "new_index = all_date_test.moonphase[all_date_test.moonphase == 'New Moon'].index.tolist()"
   ]
  },
  {
   "cell_type": "code",
   "execution_count": 168,
   "metadata": {},
   "outputs": [],
   "source": [
    "zip_list = zip(full_index, new_index)"
   ]
  },
  {
   "cell_type": "code",
   "execution_count": 188,
   "metadata": {},
   "outputs": [
    {
     "name": "stdout",
     "output_type": "stream",
     "text": [
      "[(2, 18), (32, 47), (61, 77), (91, 106), (120, 135), (150, 165), (180, 194), (210, 224), (239, 253), (269, 283), (298, 313), (328, 342), (357, 372), (386, 401), (416, 431), (445, 461), (474, 490), (504, 520), (534, 549), (564, 578), (593, 608), (623, 637), (653, 667), (682, 696), (712, 726), (741, 755), (770, 785), (800, 815), (829, 844), (858, 874), (888, 904), (918, 933), (947, 962), (977, 992), (1007, 1021), (1037, 1051), (1066, 1080), (1096, 1110), (1125, 1139), (1154, 1169), (1184, 1199), (1213, 1228), (1242, 1258), (1272, 1288), (1302, 1317), (1331, 1347), (1361, 1376), (1391, 1405), (1420, 1435), (1450, 1464), (1479, 1493), (1509, 1523), (1538, 1553), (1568, 1582), (1597, 1612), (1627, 1642), (1656, 1672), (1686, 1701), (1715, 1731), (1745, 1760), (1774, 1789), (1804, 1819), (1834, 1848), (1863, 1877), (1893, 1907), (1922, 1936), (1952, 1966), (1981, 1996), (2011, 2026), (2040, 2055), (2070, 2085), (2099, 2115), (2129, 2144), (2158, 2173), (2188, 2203), (2217, 2232), (2247, 2261), (2277, 2291), (2306, 2320), (2336, 2350), (2365, 2380), (2395, 2409), (2424, 2439), (2454, 2469), (2483, 2498), (2512, 2528)]\n"
     ]
    }
   ],
   "source": [
    "print(a)"
   ]
  },
  {
   "cell_type": "code",
   "execution_count": 189,
   "metadata": {
    "scrolled": true
   },
   "outputs": [
    {
     "name": "stderr",
     "output_type": "stream",
     "text": [
      "/anaconda3/lib/python3.7/site-packages/ipykernel_launcher.py:3: SettingWithCopyWarning: \n",
      "A value is trying to be set on a copy of a slice from a DataFrame\n",
      "\n",
      "See the caveats in the documentation: http://pandas.pydata.org/pandas-docs/stable/indexing.html#indexing-view-versus-copy\n",
      "  This is separate from the ipykernel package so we can avoid doing imports until\n",
      "/anaconda3/lib/python3.7/site-packages/ipykernel_launcher.py:7: SettingWithCopyWarning: \n",
      "A value is trying to be set on a copy of a slice from a DataFrame\n",
      "\n",
      "See the caveats in the documentation: http://pandas.pydata.org/pandas-docs/stable/indexing.html#indexing-view-versus-copy\n",
      "  import sys\n"
     ]
    }
   ],
   "source": [
    " for num in range(a[0][1]): \n",
    "            if num <a[0][0] :\n",
    "                all_date_test['moonphase'][num] = 'Waxing'\n",
    "            elif num == a[0][0]:\n",
    "                continue\n",
    "            else:\n",
    "                all_date_test['moonphase'][num] = 'Waning'"
   ]
  },
  {
   "cell_type": "code",
   "execution_count": 190,
   "metadata": {},
   "outputs": [
    {
     "data": {
      "text/html": [
       "<div>\n",
       "<style scoped>\n",
       "    .dataframe tbody tr th:only-of-type {\n",
       "        vertical-align: middle;\n",
       "    }\n",
       "\n",
       "    .dataframe tbody tr th {\n",
       "        vertical-align: top;\n",
       "    }\n",
       "\n",
       "    .dataframe thead th {\n",
       "        text-align: right;\n",
       "    }\n",
       "</style>\n",
       "<table border=\"1\" class=\"dataframe\">\n",
       "  <thead>\n",
       "    <tr style=\"text-align: right;\">\n",
       "      <th></th>\n",
       "      <th>date</th>\n",
       "      <th>moonphase</th>\n",
       "    </tr>\n",
       "  </thead>\n",
       "  <tbody>\n",
       "    <tr>\n",
       "      <th>0</th>\n",
       "      <td>2012-07-01</td>\n",
       "      <td>Waxing</td>\n",
       "    </tr>\n",
       "    <tr>\n",
       "      <th>1</th>\n",
       "      <td>2012-07-02</td>\n",
       "      <td>Waxing</td>\n",
       "    </tr>\n",
       "    <tr>\n",
       "      <th>2</th>\n",
       "      <td>2012-07-03</td>\n",
       "      <td>Full Moon</td>\n",
       "    </tr>\n",
       "    <tr>\n",
       "      <th>3</th>\n",
       "      <td>2012-07-04</td>\n",
       "      <td>Waning</td>\n",
       "    </tr>\n",
       "    <tr>\n",
       "      <th>4</th>\n",
       "      <td>2012-07-05</td>\n",
       "      <td>Waning</td>\n",
       "    </tr>\n",
       "    <tr>\n",
       "      <th>5</th>\n",
       "      <td>2012-07-06</td>\n",
       "      <td>Waning</td>\n",
       "    </tr>\n",
       "    <tr>\n",
       "      <th>6</th>\n",
       "      <td>2012-07-07</td>\n",
       "      <td>Waning</td>\n",
       "    </tr>\n",
       "    <tr>\n",
       "      <th>7</th>\n",
       "      <td>2012-07-08</td>\n",
       "      <td>Waning</td>\n",
       "    </tr>\n",
       "    <tr>\n",
       "      <th>8</th>\n",
       "      <td>2012-07-09</td>\n",
       "      <td>Waning</td>\n",
       "    </tr>\n",
       "    <tr>\n",
       "      <th>9</th>\n",
       "      <td>2012-07-10</td>\n",
       "      <td>Waning</td>\n",
       "    </tr>\n",
       "    <tr>\n",
       "      <th>10</th>\n",
       "      <td>2012-07-11</td>\n",
       "      <td>Waning</td>\n",
       "    </tr>\n",
       "    <tr>\n",
       "      <th>11</th>\n",
       "      <td>2012-07-12</td>\n",
       "      <td>Waning</td>\n",
       "    </tr>\n",
       "    <tr>\n",
       "      <th>12</th>\n",
       "      <td>2012-07-13</td>\n",
       "      <td>Waning</td>\n",
       "    </tr>\n",
       "    <tr>\n",
       "      <th>13</th>\n",
       "      <td>2012-07-14</td>\n",
       "      <td>Waning</td>\n",
       "    </tr>\n",
       "    <tr>\n",
       "      <th>14</th>\n",
       "      <td>2012-07-15</td>\n",
       "      <td>Waning</td>\n",
       "    </tr>\n",
       "    <tr>\n",
       "      <th>15</th>\n",
       "      <td>2012-07-16</td>\n",
       "      <td>Waning</td>\n",
       "    </tr>\n",
       "    <tr>\n",
       "      <th>16</th>\n",
       "      <td>2012-07-17</td>\n",
       "      <td>Waning</td>\n",
       "    </tr>\n",
       "    <tr>\n",
       "      <th>17</th>\n",
       "      <td>2012-07-18</td>\n",
       "      <td>Waning</td>\n",
       "    </tr>\n",
       "    <tr>\n",
       "      <th>18</th>\n",
       "      <td>2012-07-19</td>\n",
       "      <td>New Moon</td>\n",
       "    </tr>\n",
       "    <tr>\n",
       "      <th>19</th>\n",
       "      <td>2012-07-20</td>\n",
       "      <td>thinking</td>\n",
       "    </tr>\n",
       "  </tbody>\n",
       "</table>\n",
       "</div>"
      ],
      "text/plain": [
       "         date  moonphase\n",
       "0  2012-07-01     Waxing\n",
       "1  2012-07-02     Waxing\n",
       "2  2012-07-03  Full Moon\n",
       "3  2012-07-04     Waning\n",
       "4  2012-07-05     Waning\n",
       "5  2012-07-06     Waning\n",
       "6  2012-07-07     Waning\n",
       "7  2012-07-08     Waning\n",
       "8  2012-07-09     Waning\n",
       "9  2012-07-10     Waning\n",
       "10 2012-07-11     Waning\n",
       "11 2012-07-12     Waning\n",
       "12 2012-07-13     Waning\n",
       "13 2012-07-14     Waning\n",
       "14 2012-07-15     Waning\n",
       "15 2012-07-16     Waning\n",
       "16 2012-07-17     Waning\n",
       "17 2012-07-18     Waning\n",
       "18 2012-07-19   New Moon\n",
       "19 2012-07-20   thinking"
      ]
     },
     "execution_count": 190,
     "metadata": {},
     "output_type": "execute_result"
    }
   ],
   "source": [
    "all_date_test.head(20)"
   ]
  },
  {
   "cell_type": "code",
   "execution_count": 170,
   "metadata": {},
   "outputs": [],
   "source": [
    "a = list(zip_list)"
   ]
  },
  {
   "cell_type": "code",
   "execution_count": null,
   "metadata": {},
   "outputs": [
    {
     "name": "stderr",
     "output_type": "stream",
     "text": [
      "/anaconda3/lib/python3.7/site-packages/ipykernel_launcher.py:5: SettingWithCopyWarning: \n",
      "A value is trying to be set on a copy of a slice from a DataFrame\n",
      "\n",
      "See the caveats in the documentation: http://pandas.pydata.org/pandas-docs/stable/indexing.html#indexing-view-versus-copy\n",
      "  \"\"\"\n",
      "/anaconda3/lib/python3.7/site-packages/ipykernel_launcher.py:9: SettingWithCopyWarning: \n",
      "A value is trying to be set on a copy of a slice from a DataFrame\n",
      "\n",
      "See the caveats in the documentation: http://pandas.pydata.org/pandas-docs/stable/indexing.html#indexing-view-versus-copy\n",
      "  if __name__ == '__main__':\n"
     ]
    }
   ],
   "source": [
    "num=0\n",
    "for n in range(len(a)):    \n",
    "    for num in range(a[n][1]): \n",
    "            if num <a[n][0] :\n",
    "                all_date_test['moonphase'][num] = 'Waxing'\n",
    "            elif num == a[n][0]:\n",
    "                continue\n",
    "            else:\n",
    "                all_date_test['moonphase'][num] = 'Waning'\n",
    "    num += a[n][1]"
   ]
  },
  {
   "cell_type": "code",
   "execution_count": 178,
   "metadata": {},
   "outputs": [
    {
     "data": {
      "text/plain": [
       "0              Waxing\n",
       "1              Waxing\n",
       "2           Full Moon\n",
       "3              Waning\n",
       "4              Waning\n",
       "5              Waning\n",
       "6              Waning\n",
       "7              Waning\n",
       "8              Waning\n",
       "9              Waning\n",
       "10             Waning\n",
       "11             Waning\n",
       "12             Waning\n",
       "13             Waning\n",
       "14             Waning\n",
       "15             Waning\n",
       "16             Waning\n",
       "17             Waning\n",
       "18           New Moon\n",
       "19           thinking\n",
       "20           thinking\n",
       "21           thinking\n",
       "22           thinking\n",
       "23           thinking\n",
       "24           thinking\n",
       "25      First Quarter\n",
       "26           thinking\n",
       "27           thinking\n",
       "28           thinking\n",
       "29           thinking\n",
       "            ...      \n",
       "2502         thinking\n",
       "2503         thinking\n",
       "2504         thinking\n",
       "2505         thinking\n",
       "2506    First Quarter\n",
       "2507         thinking\n",
       "2508         thinking\n",
       "2509         thinking\n",
       "2510         thinking\n",
       "2511         thinking\n",
       "2512        Full Moon\n",
       "2513         thinking\n",
       "2514         thinking\n",
       "2515         thinking\n",
       "2516         thinking\n",
       "2517         thinking\n",
       "2518         thinking\n",
       "2519         thinking\n",
       "2520     Last Quarter\n",
       "2521         thinking\n",
       "2522         thinking\n",
       "2523         thinking\n",
       "2524         thinking\n",
       "2525         thinking\n",
       "2526         thinking\n",
       "2527         thinking\n",
       "2528         New Moon\n",
       "2529         thinking\n",
       "2530         thinking\n",
       "2531         thinking\n",
       "Name: moonphase, Length: 2532, dtype: object"
      ]
     },
     "execution_count": 178,
     "metadata": {},
     "output_type": "execute_result"
    }
   ],
   "source": [
    "all_date_test['moonphase']"
   ]
  },
  {
   "cell_type": "code",
   "execution_count": null,
   "metadata": {},
   "outputs": [],
   "source": []
  }
 ],
 "metadata": {
  "kernelspec": {
   "display_name": "learn-env",
   "language": "python",
   "name": "learn-env"
  },
  "language_info": {
   "codemirror_mode": {
    "name": "ipython",
    "version": 3
   },
   "file_extension": ".py",
   "mimetype": "text/x-python",
   "name": "python",
   "nbconvert_exporter": "python",
   "pygments_lexer": "ipython3",
   "version": "3.7.3"
  }
 },
 "nbformat": 4,
 "nbformat_minor": 2
}
