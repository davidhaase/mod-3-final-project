{
 "cells": [
  {
   "cell_type": "code",
   "execution_count": 1,
   "metadata": {},
   "outputs": [],
   "source": [
    "import pandas as pd\n",
    "import math\n",
    "from statsmodels.stats.power import TTestIndPower, TTestPower"
   ]
  },
  {
   "cell_type": "code",
   "execution_count": 6,
   "metadata": {},
   "outputs": [
    {
     "data": {
      "text/plain": [
       "DATE                                   0\n",
       "TIME                                   0\n",
       "BOROUGH                           452491\n",
       "ZIP CODE                          452670\n",
       "LATITUDE                          188214\n",
       "LONGITUDE                         188214\n",
       "LOCATION                          188214\n",
       "ON STREET NAME                    290761\n",
       "CROSS STREET NAME                 487294\n",
       "OFF STREET NAME                  1309317\n",
       "NUMBER OF PERSONS INJURED             17\n",
       "NUMBER OF PERSONS KILLED              31\n",
       "NUMBER OF PEDESTRIANS INJURED          0\n",
       "NUMBER OF PEDESTRIANS KILLED           0\n",
       "NUMBER OF CYCLIST INJURED              0\n",
       "NUMBER OF CYCLIST KILLED               0\n",
       "NUMBER OF MOTORIST INJURED             0\n",
       "NUMBER OF MOTORIST KILLED              0\n",
       "CONTRIBUTING FACTOR VEHICLE 1       3922\n",
       "CONTRIBUTING FACTOR VEHICLE 2     201012\n",
       "CONTRIBUTING FACTOR VEHICLE 3    1410759\n",
       "CONTRIBUTING FACTOR VEHICLE 4    1487724\n",
       "CONTRIBUTING FACTOR VEHICLE 5    1502781\n",
       "UNIQUE KEY                             0\n",
       "VEHICLE TYPE CODE 1                 4805\n",
       "VEHICLE TYPE CODE 2               244738\n",
       "VEHICLE TYPE CODE 3              1381359\n",
       "VEHICLE TYPE CODE 4              1459872\n",
       "VEHICLE TYPE CODE 5              1497667\n",
       "dtype: int64"
      ]
     },
     "execution_count": 6,
     "metadata": {},
     "output_type": "execute_result"
    }
   ],
   "source": [
    "traffic_df.isnull().sum()"
   ]
  },
  {
   "cell_type": "code",
   "execution_count": 8,
   "metadata": {},
   "outputs": [],
   "source": [
    "traffic = traffic_df.drop(['LATITUDE','LONGITUDE', 'TIME','VEHICLE TYPE CODE 1','VEHICLE TYPE CODE 2', 'VEHICLE TYPE CODE 3', 'VEHICLE TYPE CODE 4', 'VEHICLE TYPE CODE 5'], axis = 1)"
   ]
  },
  {
   "cell_type": "code",
   "execution_count": 10,
   "metadata": {},
   "outputs": [
    {
     "data": {
      "text/plain": [
       "DATE                                   0\n",
       "BOROUGH                           452491\n",
       "ZIP CODE                          452670\n",
       "LOCATION                          188214\n",
       "ON STREET NAME                    290761\n",
       "CROSS STREET NAME                 487294\n",
       "OFF STREET NAME                  1309317\n",
       "NUMBER OF PERSONS INJURED             17\n",
       "NUMBER OF PERSONS KILLED              31\n",
       "NUMBER OF PEDESTRIANS INJURED          0\n",
       "NUMBER OF PEDESTRIANS KILLED           0\n",
       "NUMBER OF CYCLIST INJURED              0\n",
       "NUMBER OF CYCLIST KILLED               0\n",
       "NUMBER OF MOTORIST INJURED             0\n",
       "NUMBER OF MOTORIST KILLED              0\n",
       "CONTRIBUTING FACTOR VEHICLE 1       3922\n",
       "CONTRIBUTING FACTOR VEHICLE 2     201012\n",
       "CONTRIBUTING FACTOR VEHICLE 3    1410759\n",
       "CONTRIBUTING FACTOR VEHICLE 4    1487724\n",
       "CONTRIBUTING FACTOR VEHICLE 5    1502781\n",
       "UNIQUE KEY                             0\n",
       "dtype: int64"
      ]
     },
     "execution_count": 10,
     "metadata": {},
     "output_type": "execute_result"
    }
   ],
   "source": [
    "traffic.isnull().sum()"
   ]
  },
  {
   "cell_type": "code",
   "execution_count": 12,
   "metadata": {},
   "outputs": [
    {
     "data": {
      "text/plain": [
       "<bound method Series.dropna of 0          0.0\n",
       "1          0.0\n",
       "2          0.0\n",
       "3          0.0\n",
       "4          0.0\n",
       "5          1.0\n",
       "6          0.0\n",
       "7          0.0\n",
       "8          0.0\n",
       "9          0.0\n",
       "10         0.0\n",
       "11         0.0\n",
       "12         0.0\n",
       "13         1.0\n",
       "14         0.0\n",
       "15         0.0\n",
       "16         0.0\n",
       "17         0.0\n",
       "18         0.0\n",
       "19         0.0\n",
       "20         4.0\n",
       "21         0.0\n",
       "22         0.0\n",
       "23         0.0\n",
       "24         0.0\n",
       "25         0.0\n",
       "26         0.0\n",
       "27         0.0\n",
       "28         0.0\n",
       "29         0.0\n",
       "          ... \n",
       "1507893    0.0\n",
       "1507894    0.0\n",
       "1507895    2.0\n",
       "1507896    0.0\n",
       "1507897    2.0\n",
       "1507898    1.0\n",
       "1507899    0.0\n",
       "1507900    0.0\n",
       "1507901    0.0\n",
       "1507902    1.0\n",
       "1507903    0.0\n",
       "1507904    0.0\n",
       "1507905    0.0\n",
       "1507906    0.0\n",
       "1507907    0.0\n",
       "1507908    0.0\n",
       "1507909    0.0\n",
       "1507910    0.0\n",
       "1507911    1.0\n",
       "1507912    0.0\n",
       "1507913    0.0\n",
       "1507914    0.0\n",
       "1507915    0.0\n",
       "1507916    0.0\n",
       "1507917    0.0\n",
       "1507918    0.0\n",
       "1507919    0.0\n",
       "1507920    0.0\n",
       "1507921    0.0\n",
       "1507922    0.0\n",
       "Name: NUMBER OF PERSONS INJURED, Length: 1507923, dtype: float64>"
      ]
     },
     "execution_count": 12,
     "metadata": {},
     "output_type": "execute_result"
    }
   ],
   "source": [
    "traffic['NUMBER OF PERSONS INJURED'].dropna"
   ]
  },
  {
   "cell_type": "code",
   "execution_count": null,
   "metadata": {},
   "outputs": [],
   "source": []
  }
 ],
 "metadata": {
  "kernelspec": {
   "display_name": "learn-env",
   "language": "python",
   "name": "learn-env"
  },
  "language_info": {
   "codemirror_mode": {
    "name": "ipython",
    "version": 3
   },
   "file_extension": ".py",
   "mimetype": "text/x-python",
   "name": "python",
   "nbconvert_exporter": "python",
   "pygments_lexer": "ipython3",
   "version": "3.7.3"
  }
 },
 "nbformat": 4,
 "nbformat_minor": 2
}
