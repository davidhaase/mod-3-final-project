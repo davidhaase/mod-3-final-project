{
 "cells": [
  {
   "cell_type": "code",
   "execution_count": 15,
   "metadata": {},
   "outputs": [],
   "source": [
    "import pandas as pd"
   ]
  },
  {
   "cell_type": "code",
   "execution_count": 16,
   "metadata": {},
   "outputs": [
    {
     "name": "stderr",
     "output_type": "stream",
     "text": [
      "/Users/davidhaase/anaconda3/lib/python3.7/site-packages/IPython/core/interactiveshell.py:3020: DtypeWarning: Columns (3,22,28) have mixed types. Specify dtype option on import or set low_memory=False.\n",
      "  interactivity=interactivity, compiler=compiler, result=result)\n"
     ]
    }
   ],
   "source": [
    "data_file = '../../Datasets/NYPD_Motor_Vehicle_Collisions.csv'\n",
    "df = pd.read_csv(data_file)"
   ]
  },
  {
   "cell_type": "markdown",
   "metadata": {},
   "source": [
    "## Data Cleaning\n",
    "### Summarize the shape\n",
    "`df.shape`\n",
    "* (1507923, 29)\n",
    "* 29 features (columns)\n",
    "* 1,507,923 collisions (rows)\n",
    "\n",
    "\n",
    "\n",
    "`df.info()`\n",
    "* RangeIndex: 1507923 entries, 0 to 1507922\n",
    "* Data columns (total 29 columns)\n",
    "* dtypes: float64(4), int64(7), object(18)\n",
    "* memory usage: 333.6+ MB\n",
    "\n",
    "`DATE                             1507923 non-null object\n",
    "TIME                             1507923 non-null object\n",
    "BOROUGH                          1055432 non-null object\n",
    "ZIP CODE                         1055253 non-null object\n",
    "LATITUDE                         1319709 non-null float64\n",
    "LONGITUDE                        1319709 non-null float64\n",
    "LOCATION                         1319709 non-null object\n",
    "ON STREET NAME                   1217162 non-null object\n",
    "CROSS STREET NAME                1020629 non-null object\n",
    "OFF STREET NAME                  198606 non-null object\n",
    "NUMBER OF PERSONS INJURED        1507906 non-null float64\n",
    "NUMBER OF PERSONS KILLED         1507892 non-null float64\n",
    "NUMBER OF PEDESTRIANS INJURED    1507923 non-null int64\n",
    "NUMBER OF PEDESTRIANS KILLED     1507923 non-null int64\n",
    "NUMBER OF CYCLIST INJURED        1507923 non-null int64\n",
    "NUMBER OF CYCLIST KILLED         1507923 non-null int64\n",
    "NUMBER OF MOTORIST INJURED       1507923 non-null int64\n",
    "NUMBER OF MOTORIST KILLED        1507923 non-null int64\n",
    "CONTRIBUTING FACTOR VEHICLE 1    1504001 non-null object\n",
    "CONTRIBUTING FACTOR VEHICLE 2    1306911 non-null object\n",
    "CONTRIBUTING FACTOR VEHICLE 3    97164 non-null object\n",
    "CONTRIBUTING FACTOR VEHICLE 4    20199 non-null object\n",
    "CONTRIBUTING FACTOR VEHICLE 5    5142 non-null object\n",
    "UNIQUE KEY                       1507923 non-null int64\n",
    "VEHICLE TYPE CODE 1              1503118 non-null object\n",
    "VEHICLE TYPE CODE 2              1263185 non-null object\n",
    "VEHICLE TYPE CODE 3              126564 non-null object\n",
    "VEHICLE TYPE CODE 4              48051 non-null object\n",
    "VEHICLE TYPE CODE 5              10256 non-null object`\n",
    "\n",
    "\n",
    "\n",
    "### Drop unnecessary columns"
   ]
  },
  {
   "cell_type": "code",
   "execution_count": 17,
   "metadata": {},
   "outputs": [],
   "source": [
    "drop_columns = ['LOCATION', 'BOROUGH', 'LATITUDE', 'LONGITUDE', 'ON STREET NAME', 'CROSS STREET NAME', 'OFF STREET NAME',\n",
    "       'CONTRIBUTING FACTOR VEHICLE 1', 'ZIP CODE', 'CONTRIBUTING FACTOR VEHICLE 2',\n",
    "       'CONTRIBUTING FACTOR VEHICLE 3', 'CONTRIBUTING FACTOR VEHICLE 4',\n",
    "       'CONTRIBUTING FACTOR VEHICLE 5', 'UNIQUE KEY', 'VEHICLE TYPE CODE 1',\n",
    "       'VEHICLE TYPE CODE 2', 'VEHICLE TYPE CODE 3', 'VEHICLE TYPE CODE 4',\n",
    "       'VEHICLE TYPE CODE 5']\n",
    "df = df.drop(drop_columns, axis=1)"
   ]
  },
  {
   "cell_type": "code",
   "execution_count": 18,
   "metadata": {},
   "outputs": [
    {
     "data": {
      "text/plain": [
       "DATE                              0\n",
       "TIME                              0\n",
       "NUMBER OF PERSONS INJURED        17\n",
       "NUMBER OF PERSONS KILLED         31\n",
       "NUMBER OF PEDESTRIANS INJURED     0\n",
       "NUMBER OF PEDESTRIANS KILLED      0\n",
       "NUMBER OF CYCLIST INJURED         0\n",
       "NUMBER OF CYCLIST KILLED          0\n",
       "NUMBER OF MOTORIST INJURED        0\n",
       "NUMBER OF MOTORIST KILLED         0\n",
       "dtype: int64"
      ]
     },
     "execution_count": 18,
     "metadata": {},
     "output_type": "execute_result"
    }
   ],
   "source": [
    "df.isna().sum()"
   ]
  },
  {
   "cell_type": "markdown",
   "metadata": {},
   "source": [
    "### NaNs\n",
    "`DATE                              0\n",
    "TIME                              0\n",
    "NUMBER OF PERSONS INJURED        17\n",
    "NUMBER OF PERSONS KILLED         31\n",
    "NUMBER OF PEDESTRIANS INJURED     0\n",
    "NUMBER OF PEDESTRIANS KILLED      0\n",
    "NUMBER OF CYCLIST INJURED         0\n",
    "NUMBER OF CYCLIST KILLED          0\n",
    "NUMBER OF MOTORIST INJURED        0\n",
    "NUMBER OF MOTORIST KILLED         0\n",
    "dtype: int64\n",
    "`\n",
    "#### Drop NaNs\n",
    "Relative to the total 1.5M collisions, the number of collisions for the two features with NaNs is low.  Let's just get rid of them."
   ]
  },
  {
   "cell_type": "code",
   "execution_count": 19,
   "metadata": {},
   "outputs": [
    {
     "data": {
      "text/plain": [
       "DATE                             0\n",
       "TIME                             0\n",
       "NUMBER OF PERSONS INJURED        0\n",
       "NUMBER OF PERSONS KILLED         0\n",
       "NUMBER OF PEDESTRIANS INJURED    0\n",
       "NUMBER OF PEDESTRIANS KILLED     0\n",
       "NUMBER OF CYCLIST INJURED        0\n",
       "NUMBER OF CYCLIST KILLED         0\n",
       "NUMBER OF MOTORIST INJURED       0\n",
       "NUMBER OF MOTORIST KILLED        0\n",
       "dtype: int64"
      ]
     },
     "execution_count": 19,
     "metadata": {},
     "output_type": "execute_result"
    }
   ],
   "source": [
    "df = df.dropna()\n",
    "df.isna().sum()"
   ]
  },
  {
   "cell_type": "markdown",
   "metadata": {},
   "source": [
    "### Convert Data Types\n",
    "#### Dates\n",
    "(ATTENTION: the code below will take a few minutes)"
   ]
  },
  {
   "cell_type": "code",
   "execution_count": 21,
   "metadata": {},
   "outputs": [],
   "source": [
    "df['DATE'] = pd.to_datetime(df['DATE'])\n",
    "df['TIME'] = pd.to_datetime(df['TIME'])"
   ]
  },
  {
   "cell_type": "markdown",
   "metadata": {},
   "source": [
    "####  Floats"
   ]
  },
  {
   "cell_type": "code",
   "execution_count": 23,
   "metadata": {},
   "outputs": [],
   "source": [
    "df['NUMBER OF PERSONS INJURED'] = df['NUMBER OF PERSONS INJURED'].astype(int)\n",
    "df['NUMBER OF PERSONS KILLED'] = df['NUMBER OF PERSONS KILLED'].astype(int)"
   ]
  },
  {
   "cell_type": "markdown",
   "metadata": {},
   "source": [
    "## Data Engineering\n",
    "### Build a DataFrame with daily sums and new feature: TOTAL_COLLISIONS\n",
    "* Flattened to 2,528 records (days)"
   ]
  },
  {
   "cell_type": "code",
   "execution_count": 41,
   "metadata": {},
   "outputs": [],
   "source": [
    "by_date = df.groupby('DATE').sum()\n",
    "by_date['TOTAL_COLLISIONS'] = df['DATE'].value_counts()"
   ]
  },
  {
   "cell_type": "markdown",
   "metadata": {},
   "source": [
    "* But there is redundancy in the columns--confirm that total_injured and total_killed equal the sum of their parts"
   ]
  },
  {
   "cell_type": "code",
   "execution_count": 42,
   "metadata": {},
   "outputs": [
    {
     "data": {
      "text/plain": [
       "(2528, 9)"
      ]
     },
     "execution_count": 42,
     "metadata": {},
     "output_type": "execute_result"
    }
   ],
   "source": [
    "by_date.shape"
   ]
  },
  {
   "cell_type": "code",
   "execution_count": null,
   "metadata": {
    "scrolled": true
   },
   "outputs": [],
   "source": []
  },
  {
   "cell_type": "markdown",
   "metadata": {},
   "source": [
    "* df['DATE'].isna().sum() = 0\n",
    "\n",
    "Earliest date in collision data: 2012-07-01\n",
    "July 1, 2012\n",
    "Nearly 7 years of data.\n",
    "\n",
    "\n",
    "\n",
    "nump = '48'\n",
    "date = '5/3/2009'\n",
    "url = 'https://api.usno.navy.mil/moon/phase?date=' + date + '&nump='+ nump\n",
    "r = requests.get(url)"
   ]
  },
  {
   "cell_type": "code",
   "execution_count": null,
   "metadata": {},
   "outputs": [],
   "source": []
  },
  {
   "cell_type": "code",
   "execution_count": null,
   "metadata": {},
   "outputs": [],
   "source": []
  },
  {
   "cell_type": "code",
   "execution_count": null,
   "metadata": {},
   "outputs": [],
   "source": []
  },
  {
   "cell_type": "code",
   "execution_count": null,
   "metadata": {},
   "outputs": [],
   "source": []
  },
  {
   "cell_type": "code",
   "execution_count": null,
   "metadata": {},
   "outputs": [],
   "source": []
  },
  {
   "cell_type": "code",
   "execution_count": null,
   "metadata": {},
   "outputs": [],
   "source": []
  },
  {
   "cell_type": "code",
   "execution_count": null,
   "metadata": {},
   "outputs": [],
   "source": []
  },
  {
   "cell_type": "code",
   "execution_count": null,
   "metadata": {},
   "outputs": [],
   "source": []
  },
  {
   "cell_type": "code",
   "execution_count": null,
   "metadata": {},
   "outputs": [],
   "source": []
  }
 ],
 "metadata": {
  "kernelspec": {
   "display_name": "Python 3",
   "language": "python",
   "name": "python3"
  },
  "language_info": {
   "codemirror_mode": {
    "name": "ipython",
    "version": 3
   },
   "file_extension": ".py",
   "mimetype": "text/x-python",
   "name": "python",
   "nbconvert_exporter": "python",
   "pygments_lexer": "ipython3",
   "version": "3.7.1"
  }
 },
 "nbformat": 4,
 "nbformat_minor": 2
}
