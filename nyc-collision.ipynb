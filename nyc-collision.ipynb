{
 "cells": [
  {
   "cell_type": "code",
   "execution_count": 1,
   "metadata": {},
   "outputs": [],
   "source": [
    "import numpy as np\n",
    "import pandas as pd\n",
    "import seaborn as sns\n",
    "import matplotlib.pyplot as plt\n",
    "import statsmodels.api as sm\n",
    "from statsmodels.formula.api import ols\n",
    "import json"
   ]
  },
  {
   "cell_type": "code",
   "execution_count": 2,
   "metadata": {},
   "outputs": [
    {
     "name": "stderr",
     "output_type": "stream",
     "text": [
      "/Users/davidhaase/anaconda3/lib/python3.7/site-packages/IPython/core/interactiveshell.py:3020: DtypeWarning: Columns (3,22,28) have mixed types. Specify dtype option on import or set low_memory=False.\n",
      "  interactivity=interactivity, compiler=compiler, result=result)\n"
     ]
    }
   ],
   "source": [
    "data_file = '../../Datasets/NYPD_Motor_Vehicle_Collisions.csv'\n",
    "df = pd.read_csv(data_file)"
   ]
  },
  {
   "cell_type": "markdown",
   "metadata": {},
   "source": [
    "## Data Cleaning\n",
    "### Summarize the shape\n",
    "`df.shape`\n",
    "* (1507923, 29)\n",
    "* 29 features (columns)\n",
    "* 1,507,923 collisions (rows)\n",
    "\n",
    "\n",
    "\n",
    "`df.info()`\n",
    "* RangeIndex: 1507923 entries, 0 to 1507922\n",
    "* Data columns (total 29 columns)\n",
    "* dtypes: float64(4), int64(7), object(18)\n",
    "* memory usage: 333.6+ MB\n",
    "\n",
    "`DATE                             1507923 non-null object\n",
    "TIME                             1507923 non-null object\n",
    "BOROUGH                          1055432 non-null object\n",
    "ZIP CODE                         1055253 non-null object\n",
    "LATITUDE                         1319709 non-null float64\n",
    "LONGITUDE                        1319709 non-null float64\n",
    "LOCATION                         1319709 non-null object\n",
    "ON STREET NAME                   1217162 non-null object\n",
    "CROSS STREET NAME                1020629 non-null object\n",
    "OFF STREET NAME                  198606 non-null object\n",
    "NUMBER OF PERSONS INJURED        1507906 non-null float64\n",
    "NUMBER OF PERSONS KILLED         1507892 non-null float64\n",
    "NUMBER OF PEDESTRIANS INJURED    1507923 non-null int64\n",
    "NUMBER OF PEDESTRIANS KILLED     1507923 non-null int64\n",
    "NUMBER OF CYCLIST INJURED        1507923 non-null int64\n",
    "NUMBER OF CYCLIST KILLED         1507923 non-null int64\n",
    "NUMBER OF MOTORIST INJURED       1507923 non-null int64\n",
    "NUMBER OF MOTORIST KILLED        1507923 non-null int64\n",
    "CONTRIBUTING FACTOR VEHICLE 1    1504001 non-null object\n",
    "CONTRIBUTING FACTOR VEHICLE 2    1306911 non-null object\n",
    "CONTRIBUTING FACTOR VEHICLE 3    97164 non-null object\n",
    "CONTRIBUTING FACTOR VEHICLE 4    20199 non-null object\n",
    "CONTRIBUTING FACTOR VEHICLE 5    5142 non-null object\n",
    "UNIQUE KEY                       1507923 non-null int64\n",
    "VEHICLE TYPE CODE 1              1503118 non-null object\n",
    "VEHICLE TYPE CODE 2              1263185 non-null object\n",
    "VEHICLE TYPE CODE 3              126564 non-null object\n",
    "VEHICLE TYPE CODE 4              48051 non-null object\n",
    "VEHICLE TYPE CODE 5              10256 non-null object`\n",
    "\n",
    "\n",
    "\n",
    "### Drop unnecessary columns"
   ]
  },
  {
   "cell_type": "code",
   "execution_count": 3,
   "metadata": {},
   "outputs": [],
   "source": [
    "drop_columns = ['LOCATION', 'BOROUGH', 'LATITUDE', 'LONGITUDE', 'ON STREET NAME', 'CROSS STREET NAME', 'OFF STREET NAME',\n",
    "       'CONTRIBUTING FACTOR VEHICLE 1', 'ZIP CODE', 'CONTRIBUTING FACTOR VEHICLE 2',\n",
    "       'CONTRIBUTING FACTOR VEHICLE 3', 'CONTRIBUTING FACTOR VEHICLE 4',\n",
    "       'CONTRIBUTING FACTOR VEHICLE 5', 'UNIQUE KEY', 'VEHICLE TYPE CODE 1',\n",
    "       'VEHICLE TYPE CODE 2', 'VEHICLE TYPE CODE 3', 'VEHICLE TYPE CODE 4',\n",
    "       'VEHICLE TYPE CODE 5']\n",
    "df = df.drop(drop_columns, axis=1)"
   ]
  },
  {
   "cell_type": "code",
   "execution_count": 4,
   "metadata": {},
   "outputs": [
    {
     "data": {
      "text/plain": [
       "DATE                              0\n",
       "TIME                              0\n",
       "NUMBER OF PERSONS INJURED        17\n",
       "NUMBER OF PERSONS KILLED         31\n",
       "NUMBER OF PEDESTRIANS INJURED     0\n",
       "NUMBER OF PEDESTRIANS KILLED      0\n",
       "NUMBER OF CYCLIST INJURED         0\n",
       "NUMBER OF CYCLIST KILLED          0\n",
       "NUMBER OF MOTORIST INJURED        0\n",
       "NUMBER OF MOTORIST KILLED         0\n",
       "dtype: int64"
      ]
     },
     "execution_count": 4,
     "metadata": {},
     "output_type": "execute_result"
    }
   ],
   "source": [
    "df.isna().sum()"
   ]
  },
  {
   "cell_type": "markdown",
   "metadata": {},
   "source": [
    "### NaNs\n",
    "`DATE                              0\n",
    "TIME                              0\n",
    "NUMBER OF PERSONS INJURED        17\n",
    "NUMBER OF PERSONS KILLED         31\n",
    "NUMBER OF PEDESTRIANS INJURED     0\n",
    "NUMBER OF PEDESTRIANS KILLED      0\n",
    "NUMBER OF CYCLIST INJURED         0\n",
    "NUMBER OF CYCLIST KILLED          0\n",
    "NUMBER OF MOTORIST INJURED        0\n",
    "NUMBER OF MOTORIST KILLED         0\n",
    "dtype: int64\n",
    "`\n",
    "#### Drop NaNs\n",
    "Relative to the total 1.5M collisions, the number of collisions for the two features with NaNs is low.  Let's just get rid of them."
   ]
  },
  {
   "cell_type": "code",
   "execution_count": 5,
   "metadata": {},
   "outputs": [
    {
     "data": {
      "text/plain": [
       "DATE                             0\n",
       "TIME                             0\n",
       "NUMBER OF PERSONS INJURED        0\n",
       "NUMBER OF PERSONS KILLED         0\n",
       "NUMBER OF PEDESTRIANS INJURED    0\n",
       "NUMBER OF PEDESTRIANS KILLED     0\n",
       "NUMBER OF CYCLIST INJURED        0\n",
       "NUMBER OF CYCLIST KILLED         0\n",
       "NUMBER OF MOTORIST INJURED       0\n",
       "NUMBER OF MOTORIST KILLED        0\n",
       "dtype: int64"
      ]
     },
     "execution_count": 5,
     "metadata": {},
     "output_type": "execute_result"
    }
   ],
   "source": [
    "df = df.dropna()\n",
    "df.isna().sum()"
   ]
  },
  {
   "cell_type": "markdown",
   "metadata": {},
   "source": [
    "### Convert Data Types\n",
    "#### Dates\n",
    "(ATTENTION: the code below will take a few minutes)"
   ]
  },
  {
   "cell_type": "code",
   "execution_count": 6,
   "metadata": {},
   "outputs": [],
   "source": [
    "df['DATE'] = pd.to_datetime(df['DATE'])\n",
    "df['TIME'] = pd.to_datetime(df['TIME'])"
   ]
  },
  {
   "cell_type": "markdown",
   "metadata": {},
   "source": [
    "####  Floats"
   ]
  },
  {
   "cell_type": "code",
   "execution_count": 7,
   "metadata": {},
   "outputs": [],
   "source": [
    "df['NUMBER OF PERSONS INJURED'] = df['NUMBER OF PERSONS INJURED'].astype(int)\n",
    "df['NUMBER OF PERSONS KILLED'] = df['NUMBER OF PERSONS KILLED'].astype(int)"
   ]
  },
  {
   "cell_type": "code",
   "execution_count": 8,
   "metadata": {},
   "outputs": [],
   "source": [
    "##############################\n",
    "# BREAKPOINT — Save to disk (json)\n",
    "# data_file = 'data/cleaned_traffic_data.json'\n",
    "# df.to_json(data_file)\n",
    "\n",
    "\n",
    "# Load from disk (json)\n",
    "# If you just want to start with the clean data, start here.\n",
    "# import numpy as np\n",
    "# import pandas as pd\n",
    "# import seaborn as sns\n",
    "# import matplotlib.pyplot as plt\n",
    "# import statsmodels.api as sm\n",
    "# from statsmodels.formula.api import ols\n",
    "# import json\n",
    "\n",
    "# data_file = 'data/cleaned_traffic_data.json'\n",
    "# with open(data_file) as json_file:  \n",
    "#     data = json.load(json_file)  \n",
    "#     df = pd.DataFrame(data)"
   ]
  },
  {
   "cell_type": "markdown",
   "metadata": {},
   "source": [
    "## Data Engineering\n",
    "### Visualize daily collision totals"
   ]
  },
  {
   "cell_type": "code",
   "execution_count": null,
   "metadata": {},
   "outputs": [],
   "source": [
    "collisions_by_date = pd.DataFrame()\n",
    "collisions_by_date['TOTAL_COLLISIONS'] = by_date['TOTAL_COLLISIONS']\n",
    "collisions_by_date.describe()"
   ]
  },
  {
   "cell_type": "code",
   "execution_count": null,
   "metadata": {},
   "outputs": [],
   "source": [
    "hist = collisions_by_date.hist(bins=100)"
   ]
  },
  {
   "cell_type": "markdown",
   "metadata": {},
   "source": [
    "### Convert to days of the week"
   ]
  },
  {
   "cell_type": "code",
   "execution_count": 9,
   "metadata": {},
   "outputs": [],
   "source": [
    "weekdays = df['DATE'].value_counts().reset_index()\n",
    "weekdays['day_of_week'] = weekdays['index'].dt.day_name()\n",
    "weekdays.drop('index', axis=1, inplace=True)"
   ]
  },
  {
   "cell_type": "code",
   "execution_count": 10,
   "metadata": {},
   "outputs": [
    {
     "data": {
      "text/html": [
       "<div>\n",
       "<style scoped>\n",
       "    .dataframe tbody tr th:only-of-type {\n",
       "        vertical-align: middle;\n",
       "    }\n",
       "\n",
       "    .dataframe tbody tr th {\n",
       "        vertical-align: top;\n",
       "    }\n",
       "\n",
       "    .dataframe thead th {\n",
       "        text-align: right;\n",
       "    }\n",
       "</style>\n",
       "<table border=\"1\" class=\"dataframe\">\n",
       "  <thead>\n",
       "    <tr style=\"text-align: right;\">\n",
       "      <th></th>\n",
       "      <th>collisions</th>\n",
       "      <th>day_of_week</th>\n",
       "    </tr>\n",
       "  </thead>\n",
       "  <tbody>\n",
       "    <tr>\n",
       "      <th>0</th>\n",
       "      <td>1161</td>\n",
       "      <td>Tuesday</td>\n",
       "    </tr>\n",
       "    <tr>\n",
       "      <th>1</th>\n",
       "      <td>1064</td>\n",
       "      <td>Thursday</td>\n",
       "    </tr>\n",
       "    <tr>\n",
       "      <th>2</th>\n",
       "      <td>999</td>\n",
       "      <td>Friday</td>\n",
       "    </tr>\n",
       "    <tr>\n",
       "      <th>3</th>\n",
       "      <td>974</td>\n",
       "      <td>Friday</td>\n",
       "    </tr>\n",
       "    <tr>\n",
       "      <th>4</th>\n",
       "      <td>961</td>\n",
       "      <td>Sunday</td>\n",
       "    </tr>\n",
       "  </tbody>\n",
       "</table>\n",
       "</div>"
      ],
      "text/plain": [
       "   collisions day_of_week\n",
       "0        1161     Tuesday\n",
       "1        1064    Thursday\n",
       "2         999      Friday\n",
       "3         974      Friday\n",
       "4         961      Sunday"
      ]
     },
     "execution_count": 10,
     "metadata": {},
     "output_type": "execute_result"
    }
   ],
   "source": [
    "weekdays = weekdays.rename(index=str, columns={\"DATE\": \"collisions\"})\n",
    "weekdays.head()"
   ]
  },
  {
   "cell_type": "code",
   "execution_count": 11,
   "metadata": {},
   "outputs": [
    {
     "data": {
      "image/png": "[encoded data removed]",
      "text/plain": [
       "<Figure size 432x288 with 1 Axes>"
      ]
     },
     "metadata": {
      "needs_background": "light"
     },
     "output_type": "display_data"
    }
   ],
   "source": [
    "boxplot = weekdays.hist()"
   ]
  },
  {
   "cell_type": "code",
   "execution_count": 12,
   "metadata": {},
   "outputs": [],
   "source": []
  },
  {
   "cell_type": "code",
   "execution_count": 13,
   "metadata": {},
   "outputs": [
    {
     "data": {
      "text/html": [
       "<div>\n",
       "<style scoped>\n",
       "    .dataframe tbody tr th:only-of-type {\n",
       "        vertical-align: middle;\n",
       "    }\n",
       "\n",
       "    .dataframe tbody tr th {\n",
       "        vertical-align: top;\n",
       "    }\n",
       "\n",
       "    .dataframe thead th {\n",
       "        text-align: right;\n",
       "    }\n",
       "</style>\n",
       "<table border=\"1\" class=\"dataframe\">\n",
       "  <thead>\n",
       "    <tr style=\"text-align: right;\">\n",
       "      <th></th>\n",
       "      <th>sum_sq</th>\n",
       "      <th>df</th>\n",
       "      <th>F</th>\n",
       "      <th>PR(&gt;F)</th>\n",
       "    </tr>\n",
       "  </thead>\n",
       "  <tbody>\n",
       "    <tr>\n",
       "      <th>C(day_of_week)</th>\n",
       "      <td>7.366846e+06</td>\n",
       "      <td>6.0</td>\n",
       "      <td>169.522588</td>\n",
       "      <td>1.872246e-181</td>\n",
       "    </tr>\n",
       "    <tr>\n",
       "      <th>Residual</th>\n",
       "      <td>1.825894e+07</td>\n",
       "      <td>2521.0</td>\n",
       "      <td>NaN</td>\n",
       "      <td>NaN</td>\n",
       "    </tr>\n",
       "  </tbody>\n",
       "</table>\n",
       "</div>"
      ],
      "text/plain": [
       "                      sum_sq      df           F         PR(>F)\n",
       "C(day_of_week)  7.366846e+06     6.0  169.522588  1.872246e-181\n",
       "Residual        1.825894e+07  2521.0         NaN            NaN"
      ]
     },
     "execution_count": 13,
     "metadata": {},
     "output_type": "execute_result"
    }
   ],
   "source": []
  },
  {
   "cell_type": "markdown",
   "metadata": {},
   "source": [
    "### Total Collisions per Day\n",
    "#### Build a DataFrame with daily sums and new feature: TOTAL_COLLISIONS\n",
    "* Flattened to 2,528 records (days)"
   ]
  },
  {
   "cell_type": "code",
   "execution_count": null,
   "metadata": {},
   "outputs": [],
   "source": [
    "collisions_by_date = pd.DataFrame()\n",
    "collisions_by_date['TOTAL_COLLISIONS'] = by_date['TOTAL_COLLISIONS']"
   ]
  },
  {
   "cell_type": "markdown",
   "metadata": {},
   "source": [
    "* But there is redundancy in the columns--confirm that total_injured and total_killed equal the sum of their parts"
   ]
  },
  {
   "cell_type": "code",
   "execution_count": null,
   "metadata": {},
   "outputs": [],
   "source": [
    "collisions_by_date.describe()"
   ]
  },
  {
   "cell_type": "code",
   "execution_count": null,
   "metadata": {
    "scrolled": true
   },
   "outputs": [],
   "source": [
    "hist = collisions_by_date.hist(bins=100)"
   ]
  },
  {
   "cell_type": "markdown",
   "metadata": {},
   "source": [
    "### Total Deaths per Day"
   ]
  },
  {
   "cell_type": "code",
   "execution_count": null,
   "metadata": {},
   "outputs": [],
   "source": [
    "daily_deaths = pd.DataFrame()\n",
    "daily_deaths['NUMBER OF PERSONS KILLED'] = by_date['NUMBER OF PERSONS KILLED']\n",
    "daily_deaths.describe()"
   ]
  },
  {
   "cell_type": "code",
   "execution_count": null,
   "metadata": {},
   "outputs": [],
   "source": [
    "hist = daily_deaths.hist(bins=10)"
   ]
  },
  {
   "cell_type": "markdown",
   "metadata": {},
   "source": [
    "### Total Injuries per Day"
   ]
  },
  {
   "cell_type": "code",
   "execution_count": null,
   "metadata": {},
   "outputs": [],
   "source": [
    "daily_injuries = pd.DataFrame()\n",
    "daily_injuries['NUMBER OF PERSONS INJURED'] = by_date['NUMBER OF PERSONS INJURED']\n",
    "daily_injuries.describe()"
   ]
  },
  {
   "cell_type": "code",
   "execution_count": null,
   "metadata": {},
   "outputs": [],
   "source": [
    "hist = daily_injuries.hist(bins=50)"
   ]
  },
  {
   "cell_type": "markdown",
   "metadata": {},
   "source": [
    "## Hypothesis Testing\n",
    "### T2 Days of the Week (ANOVA)—Does the day of the weekday have an effect on the number of collisions?\n",
    "* __Null Hypothesis (H<sub>0</sub>)__:  The day of a weekday does not have an effect on the number of collisions\n",
    "* __Alternative Hypothesis (H<sub>1</sub>)__: The day of a weekday _does_ have an effect on the number of collisions"
   ]
  },
  {
   "cell_type": "code",
   "execution_count": 15,
   "metadata": {},
   "outputs": [
    {
     "data": {
      "text/html": [
       "<div>\n",
       "<style scoped>\n",
       "    .dataframe tbody tr th:only-of-type {\n",
       "        vertical-align: middle;\n",
       "    }\n",
       "\n",
       "    .dataframe tbody tr th {\n",
       "        vertical-align: top;\n",
       "    }\n",
       "\n",
       "    .dataframe thead th {\n",
       "        text-align: right;\n",
       "    }\n",
       "</style>\n",
       "<table border=\"1\" class=\"dataframe\">\n",
       "  <thead>\n",
       "    <tr style=\"text-align: right;\">\n",
       "      <th></th>\n",
       "      <th>sum_sq</th>\n",
       "      <th>df</th>\n",
       "      <th>F</th>\n",
       "      <th>PR(&gt;F)</th>\n",
       "    </tr>\n",
       "  </thead>\n",
       "  <tbody>\n",
       "    <tr>\n",
       "      <th>C(day_of_week)</th>\n",
       "      <td>7.366846e+06</td>\n",
       "      <td>6.0</td>\n",
       "      <td>169.522588</td>\n",
       "      <td>1.872246e-181</td>\n",
       "    </tr>\n",
       "    <tr>\n",
       "      <th>Residual</th>\n",
       "      <td>1.825894e+07</td>\n",
       "      <td>2521.0</td>\n",
       "      <td>NaN</td>\n",
       "      <td>NaN</td>\n",
       "    </tr>\n",
       "  </tbody>\n",
       "</table>\n",
       "</div>"
      ],
      "text/plain": [
       "                      sum_sq      df           F         PR(>F)\n",
       "C(day_of_week)  7.366846e+06     6.0  169.522588  1.872246e-181\n",
       "Residual        1.825894e+07  2521.0         NaN            NaN"
      ]
     },
     "execution_count": 15,
     "metadata": {},
     "output_type": "execute_result"
    }
   ],
   "source": [
    "formula = 'collisions ~ C(day_of_week)'\n",
    "lm = ols(formula, weekdays).fit()\n",
    "table = sm.stats.anova_lm(lm, typ=2)\n",
    "table"
   ]
  },
  {
   "cell_type": "code",
   "execution_count": null,
   "metadata": {},
   "outputs": [],
   "source": []
  }
 ],
 "metadata": {
  "kernelspec": {
   "display_name": "Python 3",
   "language": "python",
   "name": "python3"
  },
  "language_info": {
   "codemirror_mode": {
    "name": "ipython",
    "version": 3
   },
   "file_extension": ".py",
   "mimetype": "text/x-python",
   "name": "python",
   "nbconvert_exporter": "python",
   "pygments_lexer": "ipython3",
   "version": "3.7.1"
  }
 },
 "nbformat": 4,
 "nbformat_minor": 2
}
