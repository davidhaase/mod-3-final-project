{
 "cells": [
  {
   "cell_type": "markdown",
   "metadata": {},
   "source": [
    "# Is the mortality rate of NYC a good reflection of national mortality rate in collisions between 2012-2017.\n",
    "\n",
    "## H0 = NYC mortality rate equals to expected rate (national mortality rate)\n",
    "\n",
    "## H1: NYC mortality rate is different to expected rate\n",
    "\n",
    "National mortality rate 2012-2017 (Expected Death Rate) : 0.01%\n",
    "Expected Survival Rate : 99.99%\n",
    "\n",
    "\n",
    "\n"
   ]
  },
  {
   "cell_type": "code",
   "execution_count": null,
   "metadata": {},
   "outputs": [],
   "source": [
    "import pandas as pd\n",
    "import "
   ]
  }
 ],
 "metadata": {
  "kernelspec": {
   "display_name": "learn-env",
   "language": "python",
   "name": "learn-env"
  },
  "language_info": {
   "codemirror_mode": {
    "name": "ipython",
    "version": 3
   },
   "file_extension": ".py",
   "mimetype": "text/x-python",
   "name": "python",
   "nbconvert_exporter": "python",
   "pygments_lexer": "ipython3",
   "version": "3.7.3"
  }
 },
 "nbformat": 4,
 "nbformat_minor": 2
}
